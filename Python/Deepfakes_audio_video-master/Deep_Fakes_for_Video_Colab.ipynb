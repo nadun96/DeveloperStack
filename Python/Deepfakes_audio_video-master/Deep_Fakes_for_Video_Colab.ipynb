{
  "nbformat": 4,
  "nbformat_minor": 0,
  "metadata": {
    "colab": {
      "name": "Deep Fakes for Video - Colab",
      "provenance": []
    },
    "kernelspec": {
      "name": "python3",
      "display_name": "Python 3"
    },
    "accelerator": "GPU"
  },
  "cells": [
    {
      "cell_type": "code",
      "metadata": {
        "id": "owlpZIs9tBC4",
        "colab_type": "code",
        "colab": {}
      },
      "source": [
        "#https://towardsdatascience.com/how-to-produce-a-deepfake-video-in-5-minutes-513984fd24b6"
      ],
      "execution_count": null,
      "outputs": []
    },
    {
      "cell_type": "code",
      "metadata": {
        "id": "sRVjV1XSm66-",
        "colab_type": "code",
        "colab": {
          "base_uri": "https://localhost:8080/",
          "height": 1000
        },
        "outputId": "71ec3d4b-7aa6-4dd5-f393-1a7b9082a032"
      },
      "source": [
        "!pip install deep-animator"
      ],
      "execution_count": 1,
      "outputs": [
        {
          "output_type": "stream",
          "text": [
            "Collecting deep-animator\n",
            "  Downloading https://files.pythonhosted.org/packages/04/83/5d1d442429d5b4f02d58516f28c716a1aa8b42a9f017a929713529da02fa/deep_animator-0.1.1-py3-none-any.whl\n",
            "Collecting scipy==1.1.0\n",
            "\u001b[?25l  Downloading https://files.pythonhosted.org/packages/a8/0b/f163da98d3a01b3e0ef1cab8dd2123c34aee2bafbb1c5bffa354cc8a1730/scipy-1.1.0-cp36-cp36m-manylinux1_x86_64.whl (31.2MB)\n",
            "\u001b[K     |████████████████████████████████| 31.2MB 102kB/s \n",
            "\u001b[?25hCollecting scikit-image==0.14.0\n",
            "\u001b[?25l  Downloading https://files.pythonhosted.org/packages/34/79/cefff573a53ca3fb4c390739d19541b95f371e24d2990aed4cd8837971f0/scikit_image-0.14.0-cp36-cp36m-manylinux1_x86_64.whl (25.3MB)\n",
            "\u001b[K     |████████████████████████████████| 25.3MB 130kB/s \n",
            "\u001b[?25hRequirement already satisfied: torchvision>=0.2.1 in /usr/local/lib/python3.6/dist-packages (from deep-animator) (0.6.1+cu101)\n",
            "Requirement already satisfied: torch>=1.3.0 in /usr/local/lib/python3.6/dist-packages (from deep-animator) (1.5.1+cu101)\n",
            "Collecting scikit-learn==0.19.2\n",
            "\u001b[?25l  Downloading https://files.pythonhosted.org/packages/f9/c8/8db4108aba5e2166cd2ea4eafa1a4b82f89240a1fa85733029cc2358ad1f/scikit_learn-0.19.2-cp36-cp36m-manylinux1_x86_64.whl (4.9MB)\n",
            "\u001b[K     |████████████████████████████████| 4.9MB 59.0MB/s \n",
            "\u001b[?25hCollecting ffmpeg\n",
            "  Downloading https://files.pythonhosted.org/packages/f0/cc/3b7408b8ecf7c1d20ad480c3eaed7619857bf1054b690226e906fdf14258/ffmpeg-1.4.tar.gz\n",
            "Collecting numpy==1.15.0\n",
            "\u001b[?25l  Downloading https://files.pythonhosted.org/packages/88/29/f4c845648ed23264e986cdc5fbab5f8eace1be5e62144ef69ccc7189461d/numpy-1.15.0-cp36-cp36m-manylinux1_x86_64.whl (13.9MB)\n",
            "\u001b[K     |████████████████████████████████| 13.9MB 240kB/s \n",
            "\u001b[?25hCollecting pandas==0.23.4\n",
            "\u001b[?25l  Downloading https://files.pythonhosted.org/packages/e1/d8/feeb346d41f181e83fba45224ab14a8d8af019b48af742e047f3845d8cff/pandas-0.23.4-cp36-cp36m-manylinux1_x86_64.whl (8.9MB)\n",
            "\u001b[K     |████████████████████████████████| 8.9MB 48.4MB/s \n",
            "\u001b[?25hCollecting fire\n",
            "\u001b[?25l  Downloading https://files.pythonhosted.org/packages/34/a7/0e22e70778aca01a52b9c899d9c145c6396d7b613719cd63db97ffa13f2f/fire-0.3.1.tar.gz (81kB)\n",
            "\u001b[K     |████████████████████████████████| 81kB 10.4MB/s \n",
            "\u001b[?25hCollecting imageio==2.3.0\n",
            "\u001b[?25l  Downloading https://files.pythonhosted.org/packages/a7/1d/33c8686072148b3b0fcc12a2e0857dd8316b8ae20a0fa66c8d6a6d01c05c/imageio-2.3.0-py2.py3-none-any.whl (3.3MB)\n",
            "\u001b[K     |████████████████████████████████| 3.3MB 56.5MB/s \n",
            "\u001b[?25hRequirement already satisfied: tqdm in /usr/local/lib/python3.6/dist-packages (from deep-animator) (4.41.1)\n",
            "Collecting matplotlib==2.2.2\n",
            "\u001b[?25l  Downloading https://files.pythonhosted.org/packages/49/b8/89dbd27f2fb171ce753bb56220d4d4f6dbc5fe32b95d8edc4415782ef07f/matplotlib-2.2.2-cp36-cp36m-manylinux1_x86_64.whl (12.6MB)\n",
            "\u001b[K     |████████████████████████████████| 12.6MB 246kB/s \n",
            "\u001b[?25hCollecting Pillow==5.2.0\n",
            "\u001b[?25l  Downloading https://files.pythonhosted.org/packages/d1/24/f53ff6b61b3d728b90934bddb4f03f8ab584a7f49299bf3bde56e2952612/Pillow-5.2.0-cp36-cp36m-manylinux1_x86_64.whl (2.0MB)\n",
            "\u001b[K     |████████████████████████████████| 2.0MB 48.5MB/s \n",
            "\u001b[?25hRequirement already satisfied: PyWavelets>=0.4.0 in /usr/local/lib/python3.6/dist-packages (from scikit-image==0.14.0->deep-animator) (1.1.1)\n",
            "Requirement already satisfied: dask[array]>=0.9.0 in /usr/local/lib/python3.6/dist-packages (from scikit-image==0.14.0->deep-animator) (2.12.0)\n",
            "Requirement already satisfied: networkx>=1.8 in /usr/local/lib/python3.6/dist-packages (from scikit-image==0.14.0->deep-animator) (2.4)\n",
            "Requirement already satisfied: six>=1.10.0 in /usr/local/lib/python3.6/dist-packages (from scikit-image==0.14.0->deep-animator) (1.15.0)\n",
            "Requirement already satisfied: cloudpickle>=0.2.1 in /usr/local/lib/python3.6/dist-packages (from scikit-image==0.14.0->deep-animator) (1.3.0)\n",
            "Requirement already satisfied: future in /usr/local/lib/python3.6/dist-packages (from torch>=1.3.0->deep-animator) (0.16.0)\n",
            "Requirement already satisfied: pytz>=2011k in /usr/local/lib/python3.6/dist-packages (from pandas==0.23.4->deep-animator) (2018.9)\n",
            "Requirement already satisfied: python-dateutil>=2.5.0 in /usr/local/lib/python3.6/dist-packages (from pandas==0.23.4->deep-animator) (2.8.1)\n",
            "Requirement already satisfied: termcolor in /usr/local/lib/python3.6/dist-packages (from fire->deep-animator) (1.1.0)\n",
            "Requirement already satisfied: pyparsing!=2.0.4,!=2.1.2,!=2.1.6,>=2.0.1 in /usr/local/lib/python3.6/dist-packages (from matplotlib==2.2.2->deep-animator) (2.4.7)\n",
            "Requirement already satisfied: kiwisolver>=1.0.1 in /usr/local/lib/python3.6/dist-packages (from matplotlib==2.2.2->deep-animator) (1.2.0)\n",
            "Requirement already satisfied: cycler>=0.10 in /usr/local/lib/python3.6/dist-packages (from matplotlib==2.2.2->deep-animator) (0.10.0)\n",
            "Requirement already satisfied: toolz>=0.7.3; extra == \"array\" in /usr/local/lib/python3.6/dist-packages (from dask[array]>=0.9.0->scikit-image==0.14.0->deep-animator) (0.10.0)\n",
            "Requirement already satisfied: decorator>=4.3.0 in /usr/local/lib/python3.6/dist-packages (from networkx>=1.8->scikit-image==0.14.0->deep-animator) (4.4.2)\n",
            "Building wheels for collected packages: ffmpeg, fire\n",
            "  Building wheel for ffmpeg (setup.py) ... \u001b[?25l\u001b[?25hdone\n",
            "  Created wheel for ffmpeg: filename=ffmpeg-1.4-cp36-none-any.whl size=6084 sha256=d3d757a82ef096974f36950a5f112f4b2fd61dd6c19847c387216755e0fa8ce7\n",
            "  Stored in directory: /root/.cache/pip/wheels/b6/68/c3/a05a35f647ba871e5572b9bbfc0b95fd1c6637a2219f959e7a\n",
            "  Building wheel for fire (setup.py) ... \u001b[?25l\u001b[?25hdone\n",
            "  Created wheel for fire: filename=fire-0.3.1-py2.py3-none-any.whl size=111005 sha256=0ac9850f8eb6e38b92f76272f3254dd430dc807a9e6e97d022feea811afa843d\n",
            "  Stored in directory: /root/.cache/pip/wheels/c1/61/df/768b03527bf006b546dce284eb4249b185669e65afc5fbb2ac\n",
            "Successfully built ffmpeg fire\n",
            "\u001b[31mERROR: yellowbrick 0.9.1 has requirement scikit-learn>=0.20, but you'll have scikit-learn 0.19.2 which is incompatible.\u001b[0m\n",
            "\u001b[31mERROR: xarray 0.15.1 has requirement pandas>=0.25, but you'll have pandas 0.23.4 which is incompatible.\u001b[0m\n",
            "\u001b[31mERROR: umap-learn 0.4.6 has requirement numpy>=1.17, but you'll have numpy 1.15.0 which is incompatible.\u001b[0m\n",
            "\u001b[31mERROR: umap-learn 0.4.6 has requirement scikit-learn>=0.20, but you'll have scikit-learn 0.19.2 which is incompatible.\u001b[0m\n",
            "\u001b[31mERROR: umap-learn 0.4.6 has requirement scipy>=1.3.1, but you'll have scipy 1.1.0 which is incompatible.\u001b[0m\n",
            "\u001b[31mERROR: tifffile 2020.7.17 has requirement numpy>=1.15.1, but you'll have numpy 1.15.0 which is incompatible.\u001b[0m\n",
            "\u001b[31mERROR: tensorflow 2.2.0 has requirement numpy<2.0,>=1.16.0, but you'll have numpy 1.15.0 which is incompatible.\u001b[0m\n",
            "\u001b[31mERROR: tensorflow 2.2.0 has requirement scipy==1.4.1; python_version >= \"3\", but you'll have scipy 1.1.0 which is incompatible.\u001b[0m\n",
            "\u001b[31mERROR: plotnine 0.6.0 has requirement matplotlib>=3.1.1, but you'll have matplotlib 2.2.2 which is incompatible.\u001b[0m\n",
            "\u001b[31mERROR: plotnine 0.6.0 has requirement numpy>=1.16.0, but you'll have numpy 1.15.0 which is incompatible.\u001b[0m\n",
            "\u001b[31mERROR: plotnine 0.6.0 has requirement pandas>=0.25.0, but you'll have pandas 0.23.4 which is incompatible.\u001b[0m\n",
            "\u001b[31mERROR: plotnine 0.6.0 has requirement scipy>=1.2.0, but you'll have scipy 1.1.0 which is incompatible.\u001b[0m\n",
            "\u001b[31mERROR: mizani 0.6.0 has requirement matplotlib>=3.1.1, but you'll have matplotlib 2.2.2 which is incompatible.\u001b[0m\n",
            "\u001b[31mERROR: mizani 0.6.0 has requirement pandas>=0.25.0, but you'll have pandas 0.23.4 which is incompatible.\u001b[0m\n",
            "\u001b[31mERROR: imbalanced-learn 0.4.3 has requirement scikit-learn>=0.20, but you'll have scikit-learn 0.19.2 which is incompatible.\u001b[0m\n",
            "\u001b[31mERROR: google-colab 1.0.0 has requirement pandas~=1.0.0; python_version >= \"3.0\", but you'll have pandas 0.23.4 which is incompatible.\u001b[0m\n",
            "\u001b[31mERROR: datascience 0.10.6 has requirement folium==0.2.1, but you'll have folium 0.8.3 which is incompatible.\u001b[0m\n",
            "\u001b[31mERROR: astropy 4.0.1.post1 has requirement numpy>=1.16, but you'll have numpy 1.15.0 which is incompatible.\u001b[0m\n",
            "\u001b[31mERROR: albumentations 0.1.12 has requirement imgaug<0.2.7,>=0.2.5, but you'll have imgaug 0.2.9 which is incompatible.\u001b[0m\n",
            "Installing collected packages: numpy, scipy, Pillow, matplotlib, scikit-image, scikit-learn, ffmpeg, pandas, fire, imageio, deep-animator\n",
            "  Found existing installation: numpy 1.18.5\n",
            "    Uninstalling numpy-1.18.5:\n",
            "      Successfully uninstalled numpy-1.18.5\n",
            "  Found existing installation: scipy 1.4.1\n",
            "    Uninstalling scipy-1.4.1:\n",
            "      Successfully uninstalled scipy-1.4.1\n",
            "  Found existing installation: Pillow 7.0.0\n",
            "    Uninstalling Pillow-7.0.0:\n",
            "      Successfully uninstalled Pillow-7.0.0\n",
            "  Found existing installation: matplotlib 3.2.2\n",
            "    Uninstalling matplotlib-3.2.2:\n",
            "      Successfully uninstalled matplotlib-3.2.2\n",
            "  Found existing installation: scikit-image 0.16.2\n",
            "    Uninstalling scikit-image-0.16.2:\n",
            "      Successfully uninstalled scikit-image-0.16.2\n",
            "  Found existing installation: scikit-learn 0.22.2.post1\n",
            "    Uninstalling scikit-learn-0.22.2.post1:\n",
            "      Successfully uninstalled scikit-learn-0.22.2.post1\n",
            "  Found existing installation: pandas 1.0.5\n",
            "    Uninstalling pandas-1.0.5:\n",
            "      Successfully uninstalled pandas-1.0.5\n",
            "  Found existing installation: imageio 2.4.1\n",
            "    Uninstalling imageio-2.4.1:\n",
            "      Successfully uninstalled imageio-2.4.1\n",
            "Successfully installed Pillow-5.2.0 deep-animator-0.1.1 ffmpeg-1.4 fire-0.3.1 imageio-2.3.0 matplotlib-2.2.2 numpy-1.15.0 pandas-0.23.4 scikit-image-0.14.0 scikit-learn-0.19.2 scipy-1.1.0\n"
          ],
          "name": "stdout"
        },
        {
          "output_type": "display_data",
          "data": {
            "application/vnd.colab-display-data+json": {
              "pip_warning": {
                "packages": [
                  "PIL",
                  "matplotlib",
                  "mpl_toolkits",
                  "numpy",
                  "pandas"
                ]
              }
            }
          },
          "metadata": {
            "tags": []
          }
        }
      ]
    },
    {
      "cell_type": "code",
      "metadata": {
        "id": "PC3yhAOeo8N3",
        "colab_type": "code",
        "colab": {
          "base_uri": "https://localhost:8080/",
          "height": 453
        },
        "outputId": "efa7379f-785a-4fa1-cbf6-117a5b336e91"
      },
      "source": [
        "!wget --load-cookies /tmp/cookies.txt \"https://docs.google.com/uc?export=download&confirm=$(wget --quiet --save-cookies /tmp/cookies.txt --keep-session-cookies --no-check-certificate 'https://docs.google.com/uc?export=download&id=1zqa0la8FKchq62gRJMMvDGVhinf3nBEx' -O- | sed -rn 's/.*confirm=([0-9A-Za-z_]+).*/\\1\\n/p')&id=1zqa0la8FKchq62gRJMMvDGVhinf3nBEx\" -O vox-cpk.pth.tar && rm -rf /tmp/cookies.txt"
      ],
      "execution_count": 2,
      "outputs": [
        {
          "output_type": "stream",
          "text": [
            "--2020-07-23 16:07:00--  https://docs.google.com/uc?export=download&confirm=JG9T&id=1zqa0la8FKchq62gRJMMvDGVhinf3nBEx\n",
            "Resolving docs.google.com (docs.google.com)... 173.194.79.101, 173.194.79.138, 173.194.79.100, ...\n",
            "Connecting to docs.google.com (docs.google.com)|173.194.79.101|:443... connected.\n",
            "HTTP request sent, awaiting response... 302 Moved Temporarily\n",
            "Location: https://doc-0s-bk-docs.googleusercontent.com/docs/securesc/hot3k07n844j43fube8rv03ci2j4gm00/95mfdrnf7025fa715elrh4j229c73mh5/1595520375000/13181020734625639142/08142092822084139008Z/1zqa0la8FKchq62gRJMMvDGVhinf3nBEx?e=download [following]\n",
            "--2020-07-23 16:07:00--  https://doc-0s-bk-docs.googleusercontent.com/docs/securesc/hot3k07n844j43fube8rv03ci2j4gm00/95mfdrnf7025fa715elrh4j229c73mh5/1595520375000/13181020734625639142/08142092822084139008Z/1zqa0la8FKchq62gRJMMvDGVhinf3nBEx?e=download\n",
            "Resolving doc-0s-bk-docs.googleusercontent.com (doc-0s-bk-docs.googleusercontent.com)... 108.177.127.132, 2a00:1450:4013:c07::84\n",
            "Connecting to doc-0s-bk-docs.googleusercontent.com (doc-0s-bk-docs.googleusercontent.com)|108.177.127.132|:443... connected.\n",
            "HTTP request sent, awaiting response... 302 Found\n",
            "Location: https://docs.google.com/nonceSigner?nonce=0ondloaf0mqrg&continue=https://doc-0s-bk-docs.googleusercontent.com/docs/securesc/hot3k07n844j43fube8rv03ci2j4gm00/95mfdrnf7025fa715elrh4j229c73mh5/1595520375000/13181020734625639142/08142092822084139008Z/1zqa0la8FKchq62gRJMMvDGVhinf3nBEx?e%3Ddownload&hash=bqs6bq511ljd4ik3pjum1o09l5idpmve [following]\n",
            "--2020-07-23 16:07:00--  https://docs.google.com/nonceSigner?nonce=0ondloaf0mqrg&continue=https://doc-0s-bk-docs.googleusercontent.com/docs/securesc/hot3k07n844j43fube8rv03ci2j4gm00/95mfdrnf7025fa715elrh4j229c73mh5/1595520375000/13181020734625639142/08142092822084139008Z/1zqa0la8FKchq62gRJMMvDGVhinf3nBEx?e%3Ddownload&hash=bqs6bq511ljd4ik3pjum1o09l5idpmve\n",
            "Connecting to docs.google.com (docs.google.com)|173.194.79.101|:443... connected.\n",
            "HTTP request sent, awaiting response... 302 Found\n",
            "Location: https://doc-0s-bk-docs.googleusercontent.com/docs/securesc/hot3k07n844j43fube8rv03ci2j4gm00/95mfdrnf7025fa715elrh4j229c73mh5/1595520375000/13181020734625639142/08142092822084139008Z/1zqa0la8FKchq62gRJMMvDGVhinf3nBEx?e=download&nonce=0ondloaf0mqrg&user=08142092822084139008Z&hash=9973813cthnu1efc7589ndn5n60j8k7c [following]\n",
            "--2020-07-23 16:07:00--  https://doc-0s-bk-docs.googleusercontent.com/docs/securesc/hot3k07n844j43fube8rv03ci2j4gm00/95mfdrnf7025fa715elrh4j229c73mh5/1595520375000/13181020734625639142/08142092822084139008Z/1zqa0la8FKchq62gRJMMvDGVhinf3nBEx?e=download&nonce=0ondloaf0mqrg&user=08142092822084139008Z&hash=9973813cthnu1efc7589ndn5n60j8k7c\n",
            "Connecting to doc-0s-bk-docs.googleusercontent.com (doc-0s-bk-docs.googleusercontent.com)|108.177.127.132|:443... connected.\n",
            "HTTP request sent, awaiting response... 200 OK\n",
            "Length: unspecified [application/x-tar]\n",
            "Saving to: ‘vox-cpk.pth.tar’\n",
            "\n",
            "vox-cpk.pth.tar         [         <=>        ] 695.01M  58.5MB/s    in 12s     \n",
            "\n",
            "2020-07-23 16:07:13 (57.5 MB/s) - ‘vox-cpk.pth.tar’ saved [728766691]\n",
            "\n"
          ],
          "name": "stdout"
        }
      ]
    },
    {
      "cell_type": "code",
      "metadata": {
        "id": "WudNsukLrqcf",
        "colab_type": "code",
        "colab": {
          "base_uri": "https://localhost:8080/",
          "height": 34
        },
        "outputId": "1e4350d8-abd6-4a8b-c021-ed6ed1bbb7d2"
      },
      "source": [
        "!ls"
      ],
      "execution_count": 1,
      "outputs": [
        {
          "output_type": "stream",
          "text": [
            "sample_data  vox-cpk.pth.tar\n"
          ],
          "name": "stdout"
        }
      ]
    },
    {
      "cell_type": "code",
      "metadata": {
        "id": "F5otCHCDpdyH",
        "colab_type": "code",
        "colab": {
          "base_uri": "https://localhost:8080/",
          "height": 453
        },
        "outputId": "b4df4853-1944-4aee-a7a9-7073b75308f6"
      },
      "source": [
        "!wget --load-cookies /tmp/cookies.txt \"https://docs.google.com/uc?export=download&confirm=$(wget --quiet --save-cookies /tmp/cookies.txt --keep-session-cookies --no-check-certificate 'https://docs.google.com/uc?export=download&id=103PEtO2QO45XwCNLYIzMcW3aRdbOhS1D' -O- | sed -rn 's/.*confirm=([0-9A-Za-z_]+).*/\\1\\n/p')&id=103PEtO2QO45XwCNLYIzMcW3aRdbOhS1D\" -O \"00.mp4\" && rm -rf /tmp/cookies.txt"
      ],
      "execution_count": 2,
      "outputs": [
        {
          "output_type": "stream",
          "text": [
            "--2020-07-23 16:08:26--  https://docs.google.com/uc?export=download&confirm=&id=103PEtO2QO45XwCNLYIzMcW3aRdbOhS1D\n",
            "Resolving docs.google.com (docs.google.com)... 172.217.218.102, 172.217.218.139, 172.217.218.100, ...\n",
            "Connecting to docs.google.com (docs.google.com)|172.217.218.102|:443... connected.\n",
            "HTTP request sent, awaiting response... 302 Moved Temporarily\n",
            "Location: https://doc-0o-9g-docs.googleusercontent.com/docs/securesc/tgrbiil4mh3ks4j6h9qcbdipiunanqbg/n26o68i8hk48jpu83vt96alt8u538431/1595520450000/13181020734625639142/02930570254634000981Z/103PEtO2QO45XwCNLYIzMcW3aRdbOhS1D?e=download [following]\n",
            "--2020-07-23 16:08:26--  https://doc-0o-9g-docs.googleusercontent.com/docs/securesc/tgrbiil4mh3ks4j6h9qcbdipiunanqbg/n26o68i8hk48jpu83vt96alt8u538431/1595520450000/13181020734625639142/02930570254634000981Z/103PEtO2QO45XwCNLYIzMcW3aRdbOhS1D?e=download\n",
            "Resolving doc-0o-9g-docs.googleusercontent.com (doc-0o-9g-docs.googleusercontent.com)... 108.177.127.132, 2a00:1450:4013:c07::84\n",
            "Connecting to doc-0o-9g-docs.googleusercontent.com (doc-0o-9g-docs.googleusercontent.com)|108.177.127.132|:443... connected.\n",
            "HTTP request sent, awaiting response... 302 Found\n",
            "Location: https://docs.google.com/nonceSigner?nonce=h7tg0vs6bveic&continue=https://doc-0o-9g-docs.googleusercontent.com/docs/securesc/tgrbiil4mh3ks4j6h9qcbdipiunanqbg/n26o68i8hk48jpu83vt96alt8u538431/1595520450000/13181020734625639142/02930570254634000981Z/103PEtO2QO45XwCNLYIzMcW3aRdbOhS1D?e%3Ddownload&hash=p5s5tcibo5048mldnqcumbcbjocenu4b [following]\n",
            "--2020-07-23 16:08:26--  https://docs.google.com/nonceSigner?nonce=h7tg0vs6bveic&continue=https://doc-0o-9g-docs.googleusercontent.com/docs/securesc/tgrbiil4mh3ks4j6h9qcbdipiunanqbg/n26o68i8hk48jpu83vt96alt8u538431/1595520450000/13181020734625639142/02930570254634000981Z/103PEtO2QO45XwCNLYIzMcW3aRdbOhS1D?e%3Ddownload&hash=p5s5tcibo5048mldnqcumbcbjocenu4b\n",
            "Connecting to docs.google.com (docs.google.com)|172.217.218.102|:443... connected.\n",
            "HTTP request sent, awaiting response... 302 Found\n",
            "Location: https://doc-0o-9g-docs.googleusercontent.com/docs/securesc/tgrbiil4mh3ks4j6h9qcbdipiunanqbg/n26o68i8hk48jpu83vt96alt8u538431/1595520450000/13181020734625639142/02930570254634000981Z/103PEtO2QO45XwCNLYIzMcW3aRdbOhS1D?e=download&nonce=h7tg0vs6bveic&user=02930570254634000981Z&hash=t2mdqvcdvgbn1p29d7pmdviota9jii44 [following]\n",
            "--2020-07-23 16:08:26--  https://doc-0o-9g-docs.googleusercontent.com/docs/securesc/tgrbiil4mh3ks4j6h9qcbdipiunanqbg/n26o68i8hk48jpu83vt96alt8u538431/1595520450000/13181020734625639142/02930570254634000981Z/103PEtO2QO45XwCNLYIzMcW3aRdbOhS1D?e=download&nonce=h7tg0vs6bveic&user=02930570254634000981Z&hash=t2mdqvcdvgbn1p29d7pmdviota9jii44\n",
            "Connecting to doc-0o-9g-docs.googleusercontent.com (doc-0o-9g-docs.googleusercontent.com)|108.177.127.132|:443... connected.\n",
            "HTTP request sent, awaiting response... 200 OK\n",
            "Length: 170054 (166K) [video/mp4]\n",
            "Saving to: ‘00.mp4’\n",
            "\n",
            "00.mp4              100%[===================>] 166.07K  --.-KB/s    in 0.001s  \n",
            "\n",
            "2020-07-23 16:08:26 (149 MB/s) - ‘00.mp4’ saved [170054/170054]\n",
            "\n"
          ],
          "name": "stdout"
        }
      ]
    },
    {
      "cell_type": "code",
      "metadata": {
        "id": "eKs1jO7Tppbk",
        "colab_type": "code",
        "colab": {
          "base_uri": "https://localhost:8080/",
          "height": 453
        },
        "outputId": "5d6e0e11-520c-48e4-d3f6-32819add37d9"
      },
      "source": [
        "!wget --load-cookies /tmp/cookies.txt \"https://docs.google.com/uc?export=download&confirm=$(wget --quiet --save-cookies /tmp/cookies.txt --keep-session-cookies --no-check-certificate 'https://docs.google.com/uc?export=download&id=1ACSKOfQUHbSEWmPu4Ndss7bkrPVK5WBR' -O- | sed -rn 's/.*confirm=([0-9A-Za-z_]+).*/\\1\\n/p')&id=1ACSKOfQUHbSEWmPu4Ndss7bkrPVK5WBR\" -O \"00.png\" && rm -rf /tmp/cookies.txt"
      ],
      "execution_count": 4,
      "outputs": [
        {
          "output_type": "stream",
          "text": [
            "--2020-07-23 16:09:08--  https://docs.google.com/uc?export=download&confirm=&id=1ACSKOfQUHbSEWmPu4Ndss7bkrPVK5WBR\n",
            "Resolving docs.google.com (docs.google.com)... 108.177.119.100, 108.177.119.139, 108.177.119.113, ...\n",
            "Connecting to docs.google.com (docs.google.com)|108.177.119.100|:443... connected.\n",
            "HTTP request sent, awaiting response... 302 Moved Temporarily\n",
            "Location: https://doc-14-2g-docs.googleusercontent.com/docs/securesc/qk001uq6jb9shos16k2bvjjbqo4csi3q/mmfl64u92256mgarhoiub0m5d7qn3s5u/1595520525000/13181020734625639142/16782195168960361258Z/1ACSKOfQUHbSEWmPu4Ndss7bkrPVK5WBR?e=download [following]\n",
            "--2020-07-23 16:09:08--  https://doc-14-2g-docs.googleusercontent.com/docs/securesc/qk001uq6jb9shos16k2bvjjbqo4csi3q/mmfl64u92256mgarhoiub0m5d7qn3s5u/1595520525000/13181020734625639142/16782195168960361258Z/1ACSKOfQUHbSEWmPu4Ndss7bkrPVK5WBR?e=download\n",
            "Resolving doc-14-2g-docs.googleusercontent.com (doc-14-2g-docs.googleusercontent.com)... 108.177.127.132, 2a00:1450:4013:c07::84\n",
            "Connecting to doc-14-2g-docs.googleusercontent.com (doc-14-2g-docs.googleusercontent.com)|108.177.127.132|:443... connected.\n",
            "HTTP request sent, awaiting response... 302 Found\n",
            "Location: https://docs.google.com/nonceSigner?nonce=53vs3v31p9ils&continue=https://doc-14-2g-docs.googleusercontent.com/docs/securesc/qk001uq6jb9shos16k2bvjjbqo4csi3q/mmfl64u92256mgarhoiub0m5d7qn3s5u/1595520525000/13181020734625639142/16782195168960361258Z/1ACSKOfQUHbSEWmPu4Ndss7bkrPVK5WBR?e%3Ddownload&hash=gueif81p89qb6eqbq9mh0213ql0o8vfp [following]\n",
            "--2020-07-23 16:09:08--  https://docs.google.com/nonceSigner?nonce=53vs3v31p9ils&continue=https://doc-14-2g-docs.googleusercontent.com/docs/securesc/qk001uq6jb9shos16k2bvjjbqo4csi3q/mmfl64u92256mgarhoiub0m5d7qn3s5u/1595520525000/13181020734625639142/16782195168960361258Z/1ACSKOfQUHbSEWmPu4Ndss7bkrPVK5WBR?e%3Ddownload&hash=gueif81p89qb6eqbq9mh0213ql0o8vfp\n",
            "Connecting to docs.google.com (docs.google.com)|108.177.119.100|:443... connected.\n",
            "HTTP request sent, awaiting response... 302 Found\n",
            "Location: https://doc-14-2g-docs.googleusercontent.com/docs/securesc/qk001uq6jb9shos16k2bvjjbqo4csi3q/mmfl64u92256mgarhoiub0m5d7qn3s5u/1595520525000/13181020734625639142/16782195168960361258Z/1ACSKOfQUHbSEWmPu4Ndss7bkrPVK5WBR?e=download&nonce=53vs3v31p9ils&user=16782195168960361258Z&hash=cnra6gaoa4ifpgb80i87f447ieabton6 [following]\n",
            "--2020-07-23 16:09:08--  https://doc-14-2g-docs.googleusercontent.com/docs/securesc/qk001uq6jb9shos16k2bvjjbqo4csi3q/mmfl64u92256mgarhoiub0m5d7qn3s5u/1595520525000/13181020734625639142/16782195168960361258Z/1ACSKOfQUHbSEWmPu4Ndss7bkrPVK5WBR?e=download&nonce=53vs3v31p9ils&user=16782195168960361258Z&hash=cnra6gaoa4ifpgb80i87f447ieabton6\n",
            "Connecting to doc-14-2g-docs.googleusercontent.com (doc-14-2g-docs.googleusercontent.com)|108.177.127.132|:443... connected.\n",
            "HTTP request sent, awaiting response... 200 OK\n",
            "Length: 45652 (45K) [image/png]\n",
            "Saving to: ‘00.png’\n",
            "\n",
            "00.png              100%[===================>]  44.58K  --.-KB/s    in 0s      \n",
            "\n",
            "2020-07-23 16:09:08 (151 MB/s) - ‘00.png’ saved [45652/45652]\n",
            "\n"
          ],
          "name": "stdout"
        }
      ]
    },
    {
      "cell_type": "code",
      "metadata": {
        "id": "Goj1-AgHp3V2",
        "colab_type": "code",
        "colab": {
          "base_uri": "https://localhost:8080/",
          "height": 34
        },
        "outputId": "f5020401-0cbe-465e-c806-cc2188707b9e"
      },
      "source": [
        "%%writefile conf.yml\n",
        "\n",
        "model_params:\n",
        "  common_params:\n",
        "    num_kp: 10\n",
        "    num_channels: 3\n",
        "    estimate_jacobian: True\n",
        "  kp_detector_params:\n",
        "     temperature: 0.1\n",
        "     block_expansion: 32\n",
        "     max_features: 1024\n",
        "     scale_factor: 0.25\n",
        "     num_blocks: 5\n",
        "  generator_params:\n",
        "    block_expansion: 64\n",
        "    max_features: 512\n",
        "    num_down_blocks: 2\n",
        "    num_bottleneck_blocks: 6\n",
        "    estimate_occlusion_map: True\n",
        "    dense_motion_params:\n",
        "      block_expansion: 64\n",
        "      max_features: 1024\n",
        "      num_blocks: 5\n",
        "      scale_factor: 0.25\n",
        "  discriminator_params:\n",
        "    scales: [1]\n",
        "    block_expansion: 32\n",
        "    max_features: 512\n",
        "    num_blocks: 4"
      ],
      "execution_count": 5,
      "outputs": [
        {
          "output_type": "stream",
          "text": [
            "Writing conf.yml\n"
          ],
          "name": "stdout"
        }
      ]
    },
    {
      "cell_type": "code",
      "metadata": {
        "id": "W2dmjky4qUk7",
        "colab_type": "code",
        "colab": {
          "base_uri": "https://localhost:8080/",
          "height": 52
        },
        "outputId": "fad40fd4-606c-499b-cd85-c3c43f963e5f"
      },
      "source": [
        "!ls"
      ],
      "execution_count": null,
      "outputs": [
        {
          "output_type": "stream",
          "text": [
            " 00.mp4   conf.yml\t\t     sample_data\n",
            " 00.png  'Copy of vox-cpk.pth.tar'   vox-cpk.pth.tar\n"
          ],
          "name": "stdout"
        }
      ]
    },
    {
      "cell_type": "code",
      "metadata": {
        "id": "iGnX6bIdqWn3",
        "colab_type": "code",
        "colab": {}
      },
      "source": [
        ""
      ],
      "execution_count": null,
      "outputs": []
    },
    {
      "cell_type": "code",
      "metadata": {
        "id": "jmobgdojLuYn",
        "colab_type": "code",
        "colab": {
          "resources": {
            "http://localhost:8080/nbextensions/google.colab/files.js": {
              "data": "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",
              "ok": true,
              "headers": [
                [
                  "content-type",
                  "application/javascript"
                ]
              ],
              "status": 200,
              "status_text": ""
            }
          },
          "base_uri": "https://localhost:8080/",
          "height": 72
        },
        "outputId": "0225f8ca-01b9-4a99-8937-3e476488a370"
      },
      "source": [
        "from google.colab import files\n",
        "\n",
        "uploaded = files.upload()"
      ],
      "execution_count": 24,
      "outputs": [
        {
          "output_type": "display_data",
          "data": {
            "text/html": [
              "\n",
              "     <input type=\"file\" id=\"files-931c6551-6768-403f-888d-acd77d6a0249\" name=\"files[]\" multiple disabled\n",
              "        style=\"border:none\" />\n",
              "     <output id=\"result-931c6551-6768-403f-888d-acd77d6a0249\">\n",
              "      Upload widget is only available when the cell has been executed in the\n",
              "      current browser session. Please rerun this cell to enable.\n",
              "      </output>\n",
              "      <script src=\"/nbextensions/google.colab/files.js\"></script> "
            ],
            "text/plain": [
              "<IPython.core.display.HTML object>"
            ]
          },
          "metadata": {
            "tags": []
          }
        },
        {
          "output_type": "stream",
          "text": [
            "Saving vdo2.mp4 to vdo2.mp4\n"
          ],
          "name": "stdout"
        }
      ]
    },
    {
      "cell_type": "code",
      "metadata": {
        "id": "HrsJs6-ZqbZx",
        "colab_type": "code",
        "colab": {
          "base_uri": "https://localhost:8080/",
          "height": 86
        },
        "outputId": "e8ab9d5a-6bcf-49b5-c163-d351ff763bb5"
      },
      "source": [
        "!pip install fastscript"
      ],
      "execution_count": 6,
      "outputs": [
        {
          "output_type": "stream",
          "text": [
            "Collecting fastscript\n",
            "  Downloading https://files.pythonhosted.org/packages/55/0e/ecdc0213646bc82986884121109a38b50bbc2cd2c491bbbfdc7ae39228e3/fastscript-0.1.4-py3-none-any.whl\n",
            "Installing collected packages: fastscript\n",
            "Successfully installed fastscript-0.1.4\n"
          ],
          "name": "stdout"
        }
      ]
    },
    {
      "cell_type": "code",
      "metadata": {
        "id": "1WykjFaPq6Dj",
        "colab_type": "code",
        "colab": {
          "base_uri": "https://localhost:8080/",
          "height": 242
        },
        "outputId": "3fbee4b2-3a5a-4d3e-c2ef-037589c9c096"
      },
      "source": [
        "!pip install -U PyYAML"
      ],
      "execution_count": 7,
      "outputs": [
        {
          "output_type": "stream",
          "text": [
            "Collecting PyYAML\n",
            "\u001b[?25l  Downloading https://files.pythonhosted.org/packages/64/c2/b80047c7ac2478f9501676c988a5411ed5572f35d1beff9cae07d321512c/PyYAML-5.3.1.tar.gz (269kB)\n",
            "\r\u001b[K     |█▏                              | 10kB 21.9MB/s eta 0:00:01\r\u001b[K     |██▍                             | 20kB 5.2MB/s eta 0:00:01\r\u001b[K     |███▋                            | 30kB 5.4MB/s eta 0:00:01\r\u001b[K     |████▉                           | 40kB 6.3MB/s eta 0:00:01\r\u001b[K     |██████                          | 51kB 6.2MB/s eta 0:00:01\r\u001b[K     |███████▎                        | 61kB 7.2MB/s eta 0:00:01\r\u001b[K     |████████▌                       | 71kB 7.0MB/s eta 0:00:01\r\u001b[K     |█████████▊                      | 81kB 6.8MB/s eta 0:00:01\r\u001b[K     |███████████                     | 92kB 6.9MB/s eta 0:00:01\r\u001b[K     |████████████▏                   | 102kB 7.1MB/s eta 0:00:01\r\u001b[K     |█████████████▍                  | 112kB 7.1MB/s eta 0:00:01\r\u001b[K     |██████████████▋                 | 122kB 7.1MB/s eta 0:00:01\r\u001b[K     |███████████████▉                | 133kB 7.1MB/s eta 0:00:01\r\u001b[K     |█████████████████               | 143kB 7.1MB/s eta 0:00:01\r\u001b[K     |██████████████████▎             | 153kB 7.1MB/s eta 0:00:01\r\u001b[K     |███████████████████▌            | 163kB 7.1MB/s eta 0:00:01\r\u001b[K     |████████████████████▊           | 174kB 7.1MB/s eta 0:00:01\r\u001b[K     |██████████████████████          | 184kB 7.1MB/s eta 0:00:01\r\u001b[K     |███████████████████████▏        | 194kB 7.1MB/s eta 0:00:01\r\u001b[K     |████████████████████████▎       | 204kB 7.1MB/s eta 0:00:01\r\u001b[K     |█████████████████████████▌      | 215kB 7.1MB/s eta 0:00:01\r\u001b[K     |██████████████████████████▊     | 225kB 7.1MB/s eta 0:00:01\r\u001b[K     |████████████████████████████    | 235kB 7.1MB/s eta 0:00:01\r\u001b[K     |█████████████████████████████▏  | 245kB 7.1MB/s eta 0:00:01\r\u001b[K     |██████████████████████████████▍ | 256kB 7.1MB/s eta 0:00:01\r\u001b[K     |███████████████████████████████▋| 266kB 7.1MB/s eta 0:00:01\r\u001b[K     |████████████████████████████████| 276kB 7.1MB/s \n",
            "\u001b[?25hBuilding wheels for collected packages: PyYAML\n",
            "  Building wheel for PyYAML (setup.py) ... \u001b[?25l\u001b[?25hdone\n",
            "  Created wheel for PyYAML: filename=PyYAML-5.3.1-cp36-cp36m-linux_x86_64.whl size=44621 sha256=7b1f32bfe6137fe85cc02d0655b9622a0843dfd8afbaa6221ea2a935838b4700\n",
            "  Stored in directory: /root/.cache/pip/wheels/a7/c1/ea/cf5bd31012e735dc1dfea3131a2d5eae7978b251083d6247bd\n",
            "Successfully built PyYAML\n",
            "Installing collected packages: PyYAML\n",
            "  Found existing installation: PyYAML 3.13\n",
            "    Uninstalling PyYAML-3.13:\n",
            "      Successfully uninstalled PyYAML-3.13\n",
            "Successfully installed PyYAML-5.3.1\n"
          ],
          "name": "stdout"
        }
      ]
    },
    {
      "cell_type": "code",
      "metadata": {
        "id": "XxaiANEdcAMT",
        "colab_type": "code",
        "colab": {
          "base_uri": "https://localhost:8080/",
          "height": 52
        },
        "outputId": "3aea4fa2-1014-47a9-8ef7-df3cd78d3411"
      },
      "source": [
        "!ls"
      ],
      "execution_count": 13,
      "outputs": [
        {
          "output_type": "stream",
          "text": [
            "00.mp4\tconf.yml\t     sample_data      web2.png\n",
            "00.png\tgenerated_video.mp4  vox-cpk.pth.tar  Webp.jpg\n"
          ],
          "name": "stdout"
        }
      ]
    },
    {
      "cell_type": "code",
      "metadata": {
        "id": "iVlVq0DpqEYd",
        "colab_type": "code",
        "colab": {
          "base_uri": "https://localhost:8080/",
          "height": 34
        },
        "outputId": "a764f4a0-116a-4a63-cf36-1e80a54af8da"
      },
      "source": [
        "!deep_animate r2.jpg vdo2.mp4 conf.yml vox-cpk.pth.tar"
      ],
      "execution_count": 27,
      "outputs": [
        {
          "output_type": "stream",
          "text": [
            "100% 327/327 [00:12<00:00, 25.24it/s]\n"
          ],
          "name": "stdout"
        }
      ]
    },
    {
      "cell_type": "code",
      "metadata": {
        "id": "pcG8i2WNq9cU",
        "colab_type": "code",
        "colab": {
          "base_uri": "https://localhost:8080/",
          "height": 52
        },
        "outputId": "ead97376-50ff-4ebf-b459-a89226d97e0b"
      },
      "source": [
        "!ls"
      ],
      "execution_count": 26,
      "outputs": [
        {
          "output_type": "stream",
          "text": [
            "00.mp4\tconf.yml\t     r2.jpg\t  t21.jpg   vdo2.mp4\t     web2.png\n",
            "00.png\tgenerated_video.mp4  sample_data  vd01.mp4  vox-cpk.pth.tar  Webp.jpg\n"
          ],
          "name": "stdout"
        }
      ]
    },
    {
      "cell_type": "code",
      "metadata": {
        "id": "y6_yf9uLq-7j",
        "colab_type": "code",
        "colab": {}
      },
      "source": [
        "# select the folder left of you and downlooad generated_video.mp4"
      ],
      "execution_count": null,
      "outputs": []
    },
    {
      "cell_type": "code",
      "metadata": {
        "id": "fWYMpVCaq_NK",
        "colab_type": "code",
        "colab": {}
      },
      "source": [
        ""
      ],
      "execution_count": null,
      "outputs": []
    },
    {
      "cell_type": "code",
      "metadata": {
        "id": "A1DXtl-jqfnK",
        "colab_type": "code",
        "colab": {}
      },
      "source": [
        ""
      ],
      "execution_count": null,
      "outputs": []
    }
  ]
}